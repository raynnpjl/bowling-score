{
 "cells": [
  {
   "cell_type": "code",
   "execution_count": 4,
   "metadata": {},
   "outputs": [
    {
     "data": {
      "text/plain": [
       "30"
      ]
     },
     "execution_count": 4,
     "metadata": {},
     "output_type": "execute_result"
    }
   ],
   "source": [
    "def bowling_score(params):\n",
    "    score = 0\n",
    "    frame = 1\n",
    "    params_index = 0\n",
    "    while frame <= 10: \n",
    "        #if theres a strike (which is X)\n",
    "        if params[params_index] == 'X':\n",
    "            score += 10\n",
    "            score += get_strike_bonus(params,params_index)\n",
    "            params_index += 1\n",
    "        #if theres a spare (when a frame, which consist of 2 int adding up to 10\n",
    "        elif convert_to_int(params[params_index]) + convert_to_int(params[params_index + 1]) == 10:\n",
    "            score += 10\n",
    "            score += get_spare_bonus(params,params_index)\n",
    "            params_index += 2\n",
    "        #if theres neither a strike nor a spare, just add the score in the frame into the total score\n",
    "        else:\n",
    "            score += get_frame_score(params,params_index)\n",
    "            params_index += 2\n",
    "        frame += 1\n",
    "    return score\n",
    "    \n",
    "    \n",
    "#helper function to calculate score for 1 frame\n",
    "def get_frame_score(params, params_index):\n",
    "    return int(params[params_index]) + int(params[params_index + 1])\n",
    "#helper function to calculate bonus for spare\n",
    "def get_spare_bonus(params, params_index):\n",
    "    return convert_to_int(params[params_index + 2])\n",
    "#helper function to calculate bonus for strike\n",
    "def get_strike_bonus(params, params_index):\n",
    "    #if the next one is a strike\n",
    "    if params[params_index + 1] == 'X':\n",
    "        return 10 + convert_to_int(params[params_index + 2])\n",
    "    #if the next one is not a strike\n",
    "    else:\n",
    "        return convert_to_int(params[params_index + 1]) + convert_to_int(params[params_index + 2])\n",
    "#helper function to convert X to 10 to avoid ErrorValue\n",
    "def convert_to_int(char):\n",
    "    if char == 'X':\n",
    "        return 10\n",
    "    else:\n",
    "        return int(char)\n",
    "    \n",
    "bowling_score(\"000000000000000000XXX\")"
   ]
  }
 ],
 "metadata": {
  "kernelspec": {
   "display_name": "Python 3",
   "language": "python",
   "name": "python3"
  },
  "language_info": {
   "codemirror_mode": {
    "name": "ipython",
    "version": 3
   },
   "file_extension": ".py",
   "mimetype": "text/x-python",
   "name": "python",
   "nbconvert_exporter": "python",
   "pygments_lexer": "ipython3",
   "version": "3.6.4"
  }
 },
 "nbformat": 4,
 "nbformat_minor": 2
}
